{
 "cells": [
  {
   "cell_type": "code",
   "execution_count": 10,
   "id": "a49b79f2-1dbf-4bee-8cf6-917257525217",
   "metadata": {},
   "outputs": [],
   "source": [
    "import openai\n",
    "import os"
   ]
  },
  {
   "cell_type": "code",
   "execution_count": 13,
   "id": "1b680015-499e-482d-88b4-1790bb470c73",
   "metadata": {},
   "outputs": [],
   "source": [
    "from openai import OpenAI"
   ]
  },
  {
   "cell_type": "code",
   "execution_count": 14,
   "id": "7c09f9c9-4b2f-42b0-896b-a55a87c80be8",
   "metadata": {},
   "outputs": [],
   "source": [
    "api_key = os.getenv('OPENAI_API_KEY')"
   ]
  },
  {
   "cell_type": "code",
   "execution_count": 16,
   "id": "4ca28b6a-16a9-467a-90ac-c3c8fd5b30a8",
   "metadata": {},
   "outputs": [],
   "source": [
    "client = OpenAI(api_key=api_key)"
   ]
  },
  {
   "cell_type": "code",
   "execution_count": 17,
   "id": "8eec1cc6-ea9b-4317-b35a-33368249e477",
   "metadata": {},
   "outputs": [],
   "source": [
    "response = client.chat.completions.create(\n",
    "    model=\"gpt-4o\",\n",
    "    messages=[{\"role\": \"user\", \"content\": \"is it too late to join the course?\"}]\n",
    ")"
   ]
  },
  {
   "cell_type": "code",
   "execution_count": 18,
   "id": "fb341e46-3fcb-4def-a0a5-de608f5a5e3a",
   "metadata": {},
   "outputs": [
    {
     "data": {
      "text/plain": [
       "\"It's hard to say without more information. Courses can have different deadlines for enrollment depending on the provider, institution, or platform. Generally, you'd need to check the specific course details to know for sure. Here are a few steps you can take:\\n\\n1. **Check the Course Website:** Most official course pages will mention the enrollment deadlines.\\n2. **Contact the Instructor or Institution:** Often, reaching out directly can give you the most accurate and personalized information.\\n3. **Look for Late Enrollment Options:** Some courses offer late enrollment or allow you to join the course after it has started, possibly with some conditions.\\n4. **Online Course Platforms:** If it's an online course platform like Coursera, edX, or Udemy, they often have more flexible start times or rolling admissions.\\n\\nIf you provide more details about the specific course, I might be able to offer more precise guidance!\""
      ]
     },
     "execution_count": 18,
     "metadata": {},
     "output_type": "execute_result"
    }
   ],
   "source": [
    "response.choices[0].message.content"
   ]
  },
  {
   "cell_type": "code",
   "execution_count": null,
   "id": "22109a12-20a5-4150-a8d2-1f7092ef92b5",
   "metadata": {},
   "outputs": [],
   "source": []
  }
 ],
 "metadata": {
  "kernelspec": {
   "display_name": "llm-zoomcamp",
   "language": "python",
   "name": "llm-zoomcamp"
  },
  "language_info": {
   "codemirror_mode": {
    "name": "ipython",
    "version": 3
   },
   "file_extension": ".py",
   "mimetype": "text/x-python",
   "name": "python",
   "nbconvert_exporter": "python",
   "pygments_lexer": "ipython3",
   "version": "3.10.0"
  }
 },
 "nbformat": 4,
 "nbformat_minor": 5
}
